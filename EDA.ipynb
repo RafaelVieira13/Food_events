{
 "cells": [
  {
   "cell_type": "code",
   "execution_count": 32,
   "metadata": {},
   "outputs": [],
   "source": [
    "import pandas as pd\n",
    "import numpy as np\n",
    "from fda_food_events_api import food_events"
   ]
  },
  {
   "cell_type": "code",
   "execution_count": 31,
   "metadata": {},
   "outputs": [
    {
     "data": {
      "text/html": [
       "<div>\n",
       "<style scoped>\n",
       "    .dataframe tbody tr th:only-of-type {\n",
       "        vertical-align: middle;\n",
       "    }\n",
       "\n",
       "    .dataframe tbody tr th {\n",
       "        vertical-align: top;\n",
       "    }\n",
       "\n",
       "    .dataframe thead th {\n",
       "        text-align: right;\n",
       "    }\n",
       "</style>\n",
       "<table border=\"1\" class=\"dataframe\">\n",
       "  <thead>\n",
       "    <tr style=\"text-align: right;\">\n",
       "      <th></th>\n",
       "      <th>report_number</th>\n",
       "      <th>outcomes</th>\n",
       "      <th>date_created</th>\n",
       "      <th>reactions</th>\n",
       "      <th>consumer_age</th>\n",
       "      <th>consumer_age_unit</th>\n",
       "      <th>consumer_gender</th>\n",
       "      <th>product_role</th>\n",
       "      <th>product_name_brand</th>\n",
       "      <th>product_industry_code</th>\n",
       "      <th>product_industry_name</th>\n",
       "    </tr>\n",
       "  </thead>\n",
       "  <tbody>\n",
       "    <tr>\n",
       "      <th>0</th>\n",
       "      <td>174513</td>\n",
       "      <td>Other Outcome</td>\n",
       "      <td>20140311</td>\n",
       "      <td>DIARRHOEA</td>\n",
       "      <td>31</td>\n",
       "      <td>year(s)</td>\n",
       "      <td>Female</td>\n",
       "      <td>SUSPECT</td>\n",
       "      <td>ORGANIC WHOLE CASHEWS, UNSALTED</td>\n",
       "      <td>23</td>\n",
       "      <td>Nuts/Edible Seed</td>\n",
       "    </tr>\n",
       "    <tr>\n",
       "      <th>0</th>\n",
       "      <td>174513</td>\n",
       "      <td>Other Outcome</td>\n",
       "      <td>20140311</td>\n",
       "      <td>NAUSEA</td>\n",
       "      <td>31</td>\n",
       "      <td>year(s)</td>\n",
       "      <td>Female</td>\n",
       "      <td>SUSPECT</td>\n",
       "      <td>ORGANIC WHOLE CASHEWS, UNSALTED</td>\n",
       "      <td>23</td>\n",
       "      <td>Nuts/Edible Seed</td>\n",
       "    </tr>\n",
       "    <tr>\n",
       "      <th>0</th>\n",
       "      <td>174513</td>\n",
       "      <td>Other Outcome</td>\n",
       "      <td>20140311</td>\n",
       "      <td>DIARRHOEA</td>\n",
       "      <td>31</td>\n",
       "      <td>year(s)</td>\n",
       "      <td>Female</td>\n",
       "      <td>CONCOMITANT</td>\n",
       "      <td>VITAMIN B6</td>\n",
       "      <td>54</td>\n",
       "      <td>Vit/Min/Prot/Unconv Diet(Human/Animal)</td>\n",
       "    </tr>\n",
       "    <tr>\n",
       "      <th>0</th>\n",
       "      <td>174513</td>\n",
       "      <td>Other Outcome</td>\n",
       "      <td>20140311</td>\n",
       "      <td>NAUSEA</td>\n",
       "      <td>31</td>\n",
       "      <td>year(s)</td>\n",
       "      <td>Female</td>\n",
       "      <td>CONCOMITANT</td>\n",
       "      <td>VITAMIN B6</td>\n",
       "      <td>54</td>\n",
       "      <td>Vit/Min/Prot/Unconv Diet(Human/Animal)</td>\n",
       "    </tr>\n",
       "    <tr>\n",
       "      <th>1</th>\n",
       "      <td>177200</td>\n",
       "      <td>Other Serious or Important Medical Event</td>\n",
       "      <td>20140617</td>\n",
       "      <td>ABDOMINAL PAIN UPPER</td>\n",
       "      <td>58</td>\n",
       "      <td>year(s)</td>\n",
       "      <td>Female</td>\n",
       "      <td>SUSPECT</td>\n",
       "      <td>PURITAN'S PRIDE MILK THISTLE EXTRACT 1000MG RA...</td>\n",
       "      <td>54</td>\n",
       "      <td>Vit/Min/Prot/Unconv Diet(Human/Animal)</td>\n",
       "    </tr>\n",
       "  </tbody>\n",
       "</table>\n",
       "</div>"
      ],
      "text/plain": [
       "  report_number                                  outcomes date_created  \\\n",
       "0        174513                             Other Outcome     20140311   \n",
       "0        174513                             Other Outcome     20140311   \n",
       "0        174513                             Other Outcome     20140311   \n",
       "0        174513                             Other Outcome     20140311   \n",
       "1        177200  Other Serious or Important Medical Event     20140617   \n",
       "\n",
       "              reactions consumer_age consumer_age_unit consumer_gender  \\\n",
       "0             DIARRHOEA           31           year(s)          Female   \n",
       "0                NAUSEA           31           year(s)          Female   \n",
       "0             DIARRHOEA           31           year(s)          Female   \n",
       "0                NAUSEA           31           year(s)          Female   \n",
       "1  ABDOMINAL PAIN UPPER           58           year(s)          Female   \n",
       "\n",
       "  product_role                                 product_name_brand  \\\n",
       "0      SUSPECT                    ORGANIC WHOLE CASHEWS, UNSALTED   \n",
       "0      SUSPECT                    ORGANIC WHOLE CASHEWS, UNSALTED   \n",
       "0  CONCOMITANT                                         VITAMIN B6   \n",
       "0  CONCOMITANT                                         VITAMIN B6   \n",
       "1      SUSPECT  PURITAN'S PRIDE MILK THISTLE EXTRACT 1000MG RA...   \n",
       "\n",
       "  product_industry_code                   product_industry_name  \n",
       "0                    23                        Nuts/Edible Seed  \n",
       "0                    23                        Nuts/Edible Seed  \n",
       "0                    54  Vit/Min/Prot/Unconv Diet(Human/Animal)  \n",
       "0                    54  Vit/Min/Prot/Unconv Diet(Human/Animal)  \n",
       "1                    54  Vit/Min/Prot/Unconv Diet(Human/Animal)  "
      ]
     },
     "execution_count": 31,
     "metadata": {},
     "output_type": "execute_result"
    }
   ],
   "source": [
    "# Getting the data by using the food_events function\n",
    "df = food_events(1000)\n",
    "df.head()"
   ]
  },
  {
   "cell_type": "markdown",
   "metadata": {},
   "source": [
    "#  Initial EDA"
   ]
  },
  {
   "cell_type": "code",
   "execution_count": 84,
   "metadata": {},
   "outputs": [
    {
     "name": "stdout",
     "output_type": "stream",
     "text": [
      "<class 'pandas.core.frame.DataFrame'>\n",
      "Index: 6030 entries, 0 to 999\n",
      "Data columns (total 11 columns):\n",
      " #   Column                 Non-Null Count  Dtype         \n",
      "---  ------                 --------------  -----         \n",
      " 0   report_number          6030 non-null   object        \n",
      " 1   outcomes               6030 non-null   object        \n",
      " 2   date_created           5415 non-null   datetime64[ns]\n",
      " 3   reactions              6030 non-null   object        \n",
      " 4   consumer_age           5415 non-null   Int64         \n",
      " 5   consumer_age_unit      6030 non-null   object        \n",
      " 6   consumer_gender        6030 non-null   object        \n",
      " 7   product_role           6030 non-null   object        \n",
      " 8   product_name_brand     6030 non-null   object        \n",
      " 9   product_industry_code  6030 non-null   object        \n",
      " 10  product_industry_name  6030 non-null   object        \n",
      "dtypes: Int64(1), datetime64[ns](1), object(9)\n",
      "memory usage: 571.2+ KB\n"
     ]
    }
   ],
   "source": [
    "# data type\n",
    "df.info()"
   ]
  },
  {
   "cell_type": "code",
   "execution_count": 83,
   "metadata": {},
   "outputs": [],
   "source": [
    "# Defining Data Types\n",
    "df['report_number'] = df['report_number'].astype(str)\n",
    "df['outcomes'] = df['outcomes'].astype(str)\n",
    "df['date_created'] = pd.to_datetime(df['date_created'])\n",
    "df['reactions'] = df['reactions'].astype(str)\n",
    "df['consumer_age'] = df['consumer_age'].astype('Int64')\n",
    "df['consumer_age_unit'] = df['consumer_age_unit'].astype(str)\n",
    "df['consumer_gender'] = df['consumer_gender'].astype(str)\n",
    "df['product_role'] = df['product_role'].astype(str)\n",
    "df['product_industry_code'] = df['product_industry_code'].astype(str)\n",
    "df['product_industry_name'] = df['product_industry_name'].astype(str)"
   ]
  },
  {
   "cell_type": "code",
   "execution_count": 45,
   "metadata": {},
   "outputs": [
    {
     "name": "stdout",
     "output_type": "stream",
     "text": [
      "There are 6030 rows and 11 columns in tha dataset\n",
      "\n",
      "Missing Data (%) by column:\n",
      "report_number            10.2\n",
      "outcomes                 10.2\n",
      "date_created             10.2\n",
      "reactions                10.2\n",
      "consumer_age             10.2\n",
      "consumer_age_unit        10.2\n",
      "consumer_gender          10.2\n",
      "product_role              0.0\n",
      "product_name_brand        0.0\n",
      "product_industry_code     0.0\n",
      "product_industry_name     0.0\n",
      "dtype: float64\n"
     ]
    }
   ],
   "source": [
    "# Dataset shape\n",
    "print(f'There are {df.shape[0]} rows and {df.shape[1]} columns in tha dataset\\n')\n",
    "\n",
    "\n",
    "# Missing data\n",
    "print('Missing Data (%) by column:')\n",
    "print(round(df.isnull().sum() / df.shape[0] * 100, 2))"
   ]
  },
  {
   "cell_type": "code",
   "execution_count": 46,
   "metadata": {},
   "outputs": [
    {
     "name": "stdout",
     "output_type": "stream",
     "text": [
      "report_number has 597 unique values\n",
      "outcomes has 12 unique values\n",
      "date_created has 517 unique values\n",
      "reactions has 646 unique values\n",
      "consumer_age has 123 unique values\n",
      "consumer_age_unit has 3 unique values\n",
      "consumer_gender has 3 unique values\n",
      "product_role has 2 unique values\n",
      "product_name_brand has 611 unique values\n",
      "product_industry_code has 27 unique values\n",
      "product_industry_name has 25 unique values\n"
     ]
    }
   ],
   "source": [
    "#  Number of unique values by column\n",
    "for col in df.columns:\n",
    "    print(f'{col} has {df[col].nunique()} unique values')"
   ]
  },
  {
   "cell_type": "markdown",
   "metadata": {},
   "source": [
    "__Outcomes__"
   ]
  },
  {
   "cell_type": "code",
   "execution_count": 96,
   "metadata": {},
   "outputs": [
    {
     "data": {
      "text/plain": [
       "outcomes\n",
       "Other Serious or Important Medical Event    1640\n",
       "Hospitalization                             1051\n",
       "Visited a Health Care Provider               683\n",
       "Visited Emergency Room                       664\n",
       "nan                                          615\n",
       "Other Outcome                                400\n",
       "Death                                        320\n",
       "Life Threatening                             211\n",
       "Disability                                   189\n",
       "Other Serious Outcome                        163\n",
       "Required Intervention                         84\n",
       "Congenital Anomaly                             9\n",
       "Allergic Reaction                              1\n",
       "Name: count, dtype: int64"
      ]
     },
     "execution_count": 96,
     "metadata": {},
     "output_type": "execute_result"
    }
   ],
   "source": [
    "df['outcomes'].value_counts()"
   ]
  },
  {
   "cell_type": "code",
   "execution_count": null,
   "metadata": {},
   "outputs": [],
   "source": []
  }
 ],
 "metadata": {
  "kernelspec": {
   "display_name": "Python 3",
   "language": "python",
   "name": "python3"
  },
  "language_info": {
   "codemirror_mode": {
    "name": "ipython",
    "version": 3
   },
   "file_extension": ".py",
   "mimetype": "text/x-python",
   "name": "python",
   "nbconvert_exporter": "python",
   "pygments_lexer": "ipython3",
   "version": "3.11.8"
  }
 },
 "nbformat": 4,
 "nbformat_minor": 2
}
